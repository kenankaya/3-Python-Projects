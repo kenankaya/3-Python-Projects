{
 "cells": [
  {
   "cell_type": "markdown",
   "id": "e26225af",
   "metadata": {},
   "source": [
    "## 1-)Write a code  that calculates the factorial of a number taken from the screen."
   ]
  },
  {
   "cell_type": "code",
   "execution_count": 3,
   "id": "b7886f34",
   "metadata": {},
   "outputs": [
    {
     "name": "stdout",
     "output_type": "stream",
     "text": [
      "Eenter  a  number: 11\n",
      "11!= 39916800 \n"
     ]
    }
   ],
   "source": [
    "number=int(input(\"Enter  a  number: \"))\n",
    "\n",
    "factorial=1\n",
    "\n",
    "for i in range (1, number+1):\n",
    "    factorial*=i\n",
    "print(f\"{number}!= {factorial} \")"
   ]
  },
  {
   "cell_type": "markdown",
   "id": "8fc40ac4",
   "metadata": {},
   "source": [
    "## 2-)Write a code that checks whether a number taken from the screen is a prime number."
   ]
  },
  {
   "cell_type": "code",
   "execution_count": 9,
   "id": "ab89bce8",
   "metadata": {},
   "outputs": [
    {
     "name": "stdout",
     "output_type": "stream",
     "text": [
      "Enter  a  number: 101\n",
      "101 is  a prime number\n"
     ]
    }
   ],
   "source": [
    "number=int(input(\"Enter  a  number: \"))\n",
    "\n",
    "prime=True\n",
    "\n",
    "\n",
    "for i in range (2,number):\n",
    "    if number% i==0:\n",
    "        prime=False\n",
    "        break\n",
    "        \n",
    "if prime== True:\n",
    "    print(\"{} is  a prime number\".format(number))\n",
    "else:\n",
    "    print(\"{} is not a prime number\".format(number))"
   ]
  },
  {
   "cell_type": "markdown",
   "id": "c4ef47c6",
   "metadata": {},
   "source": [
    "## 3-) Write a code that finds how many positive divisors a number taken from the screen"
   ]
  },
  {
   "cell_type": "code",
   "execution_count": 12,
   "id": "e0a6e82b",
   "metadata": {},
   "outputs": [
    {
     "name": "stdout",
     "output_type": "stream",
     "text": [
      "Enter  a  number: 100\n",
      "Positive divisors of 100 is 9\n"
     ]
    }
   ],
   "source": [
    "number=int(input(\"Enter  a  number: \"))\n",
    "num_of_divisor=0\n",
    "for i in range(1,number+1):\n",
    "    if number%i==0:\n",
    "        num_of_divisor+=1\n",
    "print(f\"Positive divisors of {number} is {num_of_divisor}\")\n",
    "        "
   ]
  },
  {
   "cell_type": "markdown",
   "id": "a95043a2",
   "metadata": {},
   "source": [
    "## 4-)Write a code that calculates the sum of the digits of a number taken from the screen."
   ]
  },
  {
   "cell_type": "code",
   "execution_count": 16,
   "id": "95b28d94",
   "metadata": {},
   "outputs": [
    {
     "name": "stdout",
     "output_type": "stream",
     "text": [
      "Enter  a  number: 1234\n",
      "sum of digit of 1234 is 10\n"
     ]
    }
   ],
   "source": [
    "number=input(\"Enter  a  number: \")\n",
    "sum_of_digits=0\n",
    "\n",
    "for i in number:\n",
    "    sum_of_digits+=int(i)\n",
    "print(f\"sum of digit of {number} is {sum_of_digits}\")    "
   ]
  },
  {
   "cell_type": "markdown",
   "id": "3653fe54",
   "metadata": {},
   "source": [
    "## 5-)Write a code that prints the largest and smallest of the 5 numbers read from the screen in a row."
   ]
  },
  {
   "cell_type": "code",
   "execution_count": 20,
   "id": "e2e2b1f3",
   "metadata": {},
   "outputs": [
    {
     "name": "stdout",
     "output_type": "stream",
     "text": [
      "Enter  a  number: 54\n",
      "Enter  a  number: 65\n",
      "Enter  a  number: 78\n",
      "Enter  a  number: 56\n",
      "Enter  a  number: 34\n",
      " 78 is the maximum number \n",
      " 34 is the minimum number \n"
     ]
    }
   ],
   "source": [
    "list_of_number=[]\n",
    "\n",
    "for i in range(5):\n",
    "    number=int(input(\"Enter  a  number: \"))\n",
    "    list_of_number.append(number)\n",
    "print(f\" {max(list_of_number)} is the maximum number \")\n",
    "print(f\" {min(list_of_number)} is the minimum number \")"
   ]
  },
  {
   "cell_type": "markdown",
   "id": "2620e1ee",
   "metadata": {},
   "source": [
    "## 6-) Write a code that checks whether the number taken from the screen is the square of any number"
   ]
  },
  {
   "cell_type": "code",
   "execution_count": 24,
   "id": "f6c4015d",
   "metadata": {},
   "outputs": [
    {
     "name": "stdout",
     "output_type": "stream",
     "text": [
      "Enter  a  number: 100\n",
      "100 is a square of a number\n"
     ]
    }
   ],
   "source": [
    "number=int(input(\"Enter  a  number: \"))\n",
    "\n",
    "sqrt=number**0.5\n",
    "if sqrt==int(sqrt):\n",
    "    print(f\"{number} is a square of a number\" )\n",
    "else:\n",
    "    print(f\"{number} is not  a square of a number\" )"
   ]
  },
  {
   "cell_type": "markdown",
   "id": "b400bcc5",
   "metadata": {},
   "source": [
    "## 7-)Write a code that finds how many letters are used in a text read from the screen."
   ]
  },
  {
   "cell_type": "code",
   "execution_count": 28,
   "id": "edd69f5c",
   "metadata": {},
   "outputs": [
    {
     "name": "stdout",
     "output_type": "stream",
     "text": [
      "Enter  a  text: Write a code that finds how many letters are used in a text read from the screen\n",
      "W 1\n",
      "r 6\n",
      "i 3\n",
      "t 8\n",
      "e 11\n",
      "  16\n",
      "a 6\n",
      "c 2\n",
      "o 3\n",
      "d 4\n",
      "h 3\n",
      "f 2\n",
      "n 4\n",
      "s 4\n",
      "w 1\n",
      "m 2\n",
      "y 1\n",
      "l 1\n",
      "u 1\n",
      "x 1\n"
     ]
    }
   ],
   "source": [
    "text=input(\"Enter  a  text: \")\n",
    "text_dict=dict()\n",
    "for letter in text:\n",
    "    if letter in text_dict:\n",
    "        text_dict[letter]+=1\n",
    "    else:\n",
    "        text_dict[letter]=1\n",
    "for letter,value in text_dict.items():\n",
    "    print(letter,value)"
   ]
  },
  {
   "cell_type": "markdown",
   "id": "280217d0",
   "metadata": {},
   "source": [
    "## 8-)How many of the first 1000 prime numbers start with 3 and end with 7?"
   ]
  },
  {
   "cell_type": "code",
   "execution_count": 5,
   "id": "7047cf72",
   "metadata": {},
   "outputs": [
    {
     "name": "stdout",
     "output_type": "stream",
     "text": [
      "[37, 307, 317, 337, 347, 367, 397, 3037, 3067, 3137, 3167, 3187, 3217, 3257, 3307, 3347, 3407, 3457, 3467, 3517, 3527, 3547, 3557, 3607, 3617, 3637, 3677, 3697, 3727, 3767, 3797, 3847, 3877, 3907, 3917, 3947, 3967]\n",
      "37\n"
     ]
    }
   ],
   "source": [
    "prime_list=[]\n",
    "prime_3_7=[]\n",
    "prime_list.append(2)\n",
    "\n",
    "number=3\n",
    "while True:\n",
    "    prime=True\n",
    "    for i in range(2,number):\n",
    "        if number%i==0:\n",
    "            prime=False\n",
    "            break\n",
    "    if prime==True:\n",
    "        prime_list.append(number)\n",
    "        if len(prime_list)==1000:\n",
    "            break\n",
    "    number+=1\n",
    "\n",
    "for prime in prime_list:\n",
    "    if str(prime).startswith(\"3\") and str(prime).endswith(\"7\"):\n",
    "        prime_3_7.append(prime)\n",
    "        \n",
    "print(prime_3_7)\n",
    "print(len(prime_3_7))"
   ]
  },
  {
   "cell_type": "code",
   "execution_count": null,
   "id": "24b9a4ca",
   "metadata": {},
   "outputs": [],
   "source": []
  }
 ],
 "metadata": {
  "kernelspec": {
   "display_name": "Python 3 (ipykernel)",
   "language": "python",
   "name": "python3"
  },
  "language_info": {
   "codemirror_mode": {
    "name": "ipython",
    "version": 3
   },
   "file_extension": ".py",
   "mimetype": "text/x-python",
   "name": "python",
   "nbconvert_exporter": "python",
   "pygments_lexer": "ipython3",
   "version": "3.9.7"
  }
 },
 "nbformat": 4,
 "nbformat_minor": 5
}
