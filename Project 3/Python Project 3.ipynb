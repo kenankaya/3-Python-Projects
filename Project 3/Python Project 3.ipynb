{
 "cells": [
  {
   "cell_type": "markdown",
   "metadata": {},
   "source": [
    "## Log In Process"
   ]
  },
  {
   "cell_type": "code",
   "execution_count": 1,
   "metadata": {},
   "outputs": [
    {
     "name": "stdout",
     "output_type": "stream",
     "text": [
      "Enter your email: kena\n",
      "Enter your password: 123456\n",
      "You entered wrong mail adress\n",
      "Enter your email: kenankayaelenork@gmail.com\n",
      "Enter your password: 1234\n",
      "You entered wrong password\n",
      "Enter your email: kenankayaelenork\n",
      "Enter your password: 1234\n",
      "You entered wrong mail adress and password\n",
      "You have used all chance to acces to website\n"
     ]
    }
   ],
   "source": [
    "member_mail=\"kenankayaelenork@gmail.com\"\n",
    "member_password=123456\n",
    "mna=3  #maximum number of wrong access\n",
    "\n",
    "while True:\n",
    "    user_mail=input(\"Enter your email: \").lower()\n",
    "    user_password=int(input(\"Enter your password: \"))\n",
    "    if member_mail==user_mail and member_password != user_password:\n",
    "        print(\"You entered wrong password\")\n",
    "        mna -=1\n",
    "    elif member_mail!=user_mail and member_password == user_password:\n",
    "        print(\"You entered wrong mail adress\")\n",
    "        mna -=1\n",
    "    elif member_mail!=user_mail and member_password != user_password:\n",
    "        print(\"You entered wrong mail adress and password\")\n",
    "        mna -=1   \n",
    "    else:\n",
    "        print(\"welcome {}\".format(member_mail[0:9].upper()))\n",
    "        break\n",
    "    if mna==0:\n",
    "        print(\"You have used all chance to acces to website\")\n",
    "        break\n",
    "    \n"
   ]
  },
  {
   "cell_type": "markdown",
   "metadata": {},
   "source": [
    "##  AUTOMATIC TELLER MACHINE(ATM)"
   ]
  },
  {
   "cell_type": "code",
   "execution_count": 5,
   "metadata": {},
   "outputs": [
    {
     "name": "stdout",
     "output_type": "stream",
     "text": [
      "Enter your operation: 1\n",
      "Your balance is 1000\n",
      "Enter your operation: 2\n",
      "Enter the amaount of the cash you want to withdraw: 1250\n",
      "Your balance is insufficient...\n",
      "Enter your operation: 2\n",
      "Enter the amaount of the cash you want to withdraw: 350\n",
      "Enter your operation: 3\n",
      "Enter the amaount of the cash you want to deposit: 1450\n",
      "Enter your operation: 1\n",
      "Your balance is 2100\n",
      "Enter your operation: 4\n",
      "Goodbye, see you later...\n"
     ]
    }
   ],
   "source": [
    "# balance inquiry ===>> please press 1\n",
    "\n",
    "# cash drawing====>> please press 2\n",
    "\n",
    "\n",
    "#cash deposit====>>> please press 3\n",
    "\n",
    "# exit  ===>> please press 4\n",
    "\n",
    "balance=1000\n",
    "while True:\n",
    "    operation=int(input(\"Enter your operation: \"))\n",
    "    if operation==4:\n",
    "        print(\"Goodbye, see you later...\")\n",
    "        break\n",
    "    if operation==1:\n",
    "        print(\"Your balance is {}\".format(balance))\n",
    "    elif operation==2:\n",
    "        ca=int(input(\"Enter the amaount of the cash you want to withdraw: \"))\n",
    "        if balance < ca:\n",
    "            print(\"Your balance is insufficient...\")\n",
    "            continue\n",
    "        balance -=ca\n",
    "    elif operation ==3:\n",
    "        ca1=int(input(\"Enter the amaount of the cash you want to deposit: \"))\n",
    "        balance+=ca1\n",
    "    else:\n",
    "        print (\"Invalid operation\")\n",
    "        \n",
    "  \n",
    "        \n",
    "    "
   ]
  },
  {
   "cell_type": "markdown",
   "metadata": {},
   "source": [
    "## Calculating the  factorial of a number"
   ]
  },
  {
   "cell_type": "code",
   "execution_count": 30,
   "metadata": {},
   "outputs": [
    {
     "name": "stdout",
     "output_type": "stream",
     "text": [
      "Enter your operation: g\n",
      "You entered invalid opeartion try again...\n",
      "Enter your operation: t\n",
      "You entered invalid opeartion try again...\n",
      "Enter your operation: c\n",
      "Enter a number: 5\n",
      "5! is 120\n",
      "Enter your operation: q\n",
      "You exit the program..\n"
     ]
    }
   ],
   "source": [
    "# EXIT===>> PRESSS \"q\" \n",
    "# Calculate the  factorial of a number===>>> press \"c\"\n",
    "\n",
    "while True:\n",
    "    operation=input(\"Enter your operation: \")\n",
    "   \n",
    "    if operation!= \"q\" and operation!= \"c\":\n",
    "        print(\"You entered invalid opeartion try again...\")\n",
    "        continue\n",
    "    elif operation==\"q\":\n",
    "        print(\"You exit the program..\")\n",
    "        break\n",
    "    elif operation==\"c\":\n",
    "        number=int(input(\"Enter a number: \"))\n",
    "        lst= range(2,number+1)\n",
    "        factorial=1\n",
    "        for i in lst:\n",
    "                factorial*=i\n",
    "        print(\"{}! is {}\".format(number,factorial))\n",
    "    \n",
    "\n"
   ]
  },
  {
   "cell_type": "markdown",
   "metadata": {},
   "source": [
    "## Finding Fibonacci Series"
   ]
  },
  {
   "cell_type": "code",
   "execution_count": 11,
   "metadata": {},
   "outputs": [
    {
     "name": "stdout",
     "output_type": "stream",
     "text": [
      "[0, 1, 1, 2, 3, 5, 8, 13, 21, 34, 55, 89, 144, 233, 377, 610, 987, 1597, 2584, 4181]\n"
     ]
    }
   ],
   "source": [
    "a=0\n",
    "b=1\n",
    "fibonacci=[]\n",
    "for i in range(20):\n",
    "    c=a\n",
    "    a=a+b\n",
    "    b=c\n",
    "    fibonacci.append(c)\n",
    "print(fibonacci)\n"
   ]
  }
 ],
 "metadata": {
  "kernelspec": {
   "display_name": "Python 3",
   "language": "python",
   "name": "python3"
  },
  "language_info": {
   "codemirror_mode": {
    "name": "ipython",
    "version": 3
   },
   "file_extension": ".py",
   "mimetype": "text/x-python",
   "name": "python",
   "nbconvert_exporter": "python",
   "pygments_lexer": "ipython3",
   "version": "3.7.4"
  }
 },
 "nbformat": 4,
 "nbformat_minor": 4
}
